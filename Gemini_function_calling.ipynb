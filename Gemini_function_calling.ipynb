{
  "nbformat": 4,
  "nbformat_minor": 0,
  "metadata": {
    "colab": {
      "provenance": []
    },
    "kernelspec": {
      "name": "python3",
      "display_name": "Python 3"
    },
    "language_info": {
      "name": "python"
    }
  },
  "cells": [
    {
      "cell_type": "markdown",
      "source": [
        "# Gemini API: Function Calling\n",
        "## Setup"
      ],
      "metadata": {
        "id": "f51b-aCmuxUy"
      }
    },
    {
      "cell_type": "code",
      "source": [
        "!pip install -q -U google-generativeai"
      ],
      "metadata": {
        "id": "sPDv4S0xu0xO"
      },
      "execution_count": 1,
      "outputs": []
    },
    {
      "cell_type": "code",
      "source": [
        "import google.generativeai as genai"
      ],
      "metadata": {
        "id": "jSwGickovCc4"
      },
      "execution_count": 2,
      "outputs": []
    },
    {
      "cell_type": "code",
      "source": [
        "from google.colab import userdata\n",
        "GOOGLE_API_KEY=userdata.get('GOOGLE_API_KEY')\n",
        "genai.configure(api_key=GOOGLE_API_KEY)"
      ],
      "metadata": {
        "id": "XFY_gNA0vGVv"
      },
      "execution_count": 7,
      "outputs": []
    },
    {
      "cell_type": "markdown",
      "source": [
        "## Single Function\n",
        "Gemini has the ability to call user-defined functions. Let's take a look at how exactly to do this. Firstly, let us define some functions relating to a hypothetical Italian restaurant located in Berkeley."
      ],
      "metadata": {
        "id": "MZJrV0glvTUZ"
      }
    },
    {
      "cell_type": "code",
      "source": [
        "def get_full_menu(service: str):\n",
        "    \"\"\"List all items on the menu of Gemini's Trattoria for the given service.\n",
        "\n",
        "    Args:\n",
        "        name: The type of service, lunch or dinner.\n",
        "    \"\"\"\n",
        "    return [\"Chicken Caesar Salad\", \"Margherita Pizza\", \"Spaghetti and Meatballs\", \"Eggplant Parmesan\"]\n",
        "\n",
        "\n",
        "def find_vegetarian_items(items: list[str]):\n",
        "    \"\"\"List all dishes in items that are vegetarian.\n",
        "\n",
        "    Args:\n",
        "        items: A list of dinner dishes.\n",
        "    \"\"\"\n",
        "    return [\"Margherita Pizza\", \"Eggplant Parmesan\"]\n",
        "\n",
        "def enter_restaurant():\n",
        "    \"\"\"You enter Gemini's Trattoria, moving the creaky door.\"\"\"\n",
        "    print(\"The door swings open, making a loud noise.\")\n",
        "    return True\n",
        "\n",
        "functions = {\"get_full_menu\": get_full_menu,\n",
        "             \"find_vegetarian_items\": find_vegetarian_items,\n",
        "             \"enter_restaurant\": enter_restaurant}"
      ],
      "metadata": {
        "id": "p3RliqFGvZBa"
      },
      "execution_count": 3,
      "outputs": []
    },
    {
      "cell_type": "markdown",
      "source": [
        "After this, we go ahead and define our Gemini model. Notice how we include the argument for tools, which tells the model which functions it has available to use. We create a chat and set automatic function calling to True, which we will touch on later."
      ],
      "metadata": {
        "id": "lR7FZWLZvjyy"
      }
    },
    {
      "cell_type": "code",
      "source": [
        "model = genai.GenerativeModel(\n",
        "    model_name=\"gemini-1.5-flash\", tools=functions.values()\n",
        ")\n",
        "\n",
        "chat = model.start_chat(enable_automatic_function_calling=True)"
      ],
      "metadata": {
        "id": "ZXQ_cDhEwR11"
      },
      "execution_count": 4,
      "outputs": []
    },
    {
      "cell_type": "markdown",
      "source": [
        "Now, we go ahead and send a prompt that requires the model to call our user-defined functions."
      ],
      "metadata": {
        "id": "_YeQvjJlwbJT"
      }
    },
    {
      "cell_type": "code",
      "source": [
        "response = chat.send_message(\n",
        "    \"What items are on Gemini's Trattoria's dinner menu?\"\n",
        ")\n",
        "print(response.text)"
      ],
      "metadata": {
        "colab": {
          "base_uri": "https://localhost:8080/",
          "height": 52
        },
        "id": "zoCkqk2kwnu_",
        "outputId": "6aa3d70c-5ed2-45a2-eade-ea2410a4e3f0"
      },
      "execution_count": 8,
      "outputs": [
        {
          "output_type": "stream",
          "name": "stdout",
          "text": [
            "The dinner menu includes: Chicken Caesar Salad, Margherita Pizza, Spaghetti and Meatballs, and Eggplant Parmesan.\n",
            "\n"
          ]
        }
      ]
    },
    {
      "cell_type": "markdown",
      "source": [
        "As we can see in the chat history, the model initially sends back a function call, to which we automatically respond, which then leads to the final model output."
      ],
      "metadata": {
        "id": "Zvf6yWYAxJHS"
      }
    },
    {
      "cell_type": "code",
      "source": [
        "for content in chat.history:\n",
        "    print(content.role, \"->\", [type(part).to_dict(part) for part in content.parts])\n",
        "    print(\"-\" * 180)"
      ],
      "metadata": {
        "colab": {
          "base_uri": "https://localhost:8080/"
        },
        "id": "USBcMHpnxKDP",
        "outputId": "5de578cc-3b0d-44cd-f1b0-c65634726622"
      },
      "execution_count": 9,
      "outputs": [
        {
          "output_type": "stream",
          "name": "stdout",
          "text": [
            "user -> [{'text': \"What items are on Gemini's Trattoria's dinner menu?\"}]\n",
            "------------------------------------------------------------------------------------------------------------------------------------------------------------------------------------\n",
            "model -> [{'function_call': {'name': 'get_full_menu', 'args': {'service': 'dinner'}}}]\n",
            "------------------------------------------------------------------------------------------------------------------------------------------------------------------------------------\n",
            "user -> [{'function_response': {'name': 'get_full_menu', 'response': {'result': ['Chicken Caesar Salad', 'Margherita Pizza', 'Spaghetti and Meatballs', 'Eggplant Parmesan']}}}]\n",
            "------------------------------------------------------------------------------------------------------------------------------------------------------------------------------------\n",
            "model -> [{'text': 'The dinner menu includes: Chicken Caesar Salad, Margherita Pizza, Spaghetti and Meatballs, and Eggplant Parmesan.\\n'}]\n",
            "------------------------------------------------------------------------------------------------------------------------------------------------------------------------------------\n"
          ]
        }
      ]
    },
    {
      "cell_type": "markdown",
      "source": [
        "# Behind The Scenes\n",
        "In general, the processes goes as follows:\n",
        "\n",
        "1. The user submits a query to the model.\n",
        "2. The model responds with a function call.\n",
        "3. The user runs the function and returns the result of the function.\n",
        "4. Now, the model will either go back to Step 2 or output a final response, as seen above.\n",
        "\n",
        "We can see this step-by-step in action by running the previous example with manual function calling, by setting the automatic function calling argument to False."
      ],
      "metadata": {
        "id": "t_0HuyjWxRS9"
      }
    },
    {
      "cell_type": "code",
      "source": [
        "chat = model.start_chat(enable_automatic_function_calling=False)\n",
        "\n",
        "response = chat.send_message(\n",
        "    \"What items are on Gemini's Trattoria's dinner menu?\"\n",
        ")\n",
        "\n",
        "part = response.candidates[0].content.parts[0]\n",
        "part"
      ],
      "metadata": {
        "colab": {
          "base_uri": "https://localhost:8080/",
          "height": 208
        },
        "id": "iiPcmAAqxe6a",
        "outputId": "e82129dc-d13c-4a95-8b54-b765df8fed57"
      },
      "execution_count": 10,
      "outputs": [
        {
          "output_type": "execute_result",
          "data": {
            "text/plain": [
              "function_call {\n",
              "  name: \"get_full_menu\"\n",
              "  args {\n",
              "    fields {\n",
              "      key: \"service\"\n",
              "      value {\n",
              "        string_value: \"dinner\"\n",
              "      }\n",
              "    }\n",
              "  }\n",
              "}"
            ]
          },
          "metadata": {},
          "execution_count": 10
        }
      ]
    },
    {
      "cell_type": "markdown",
      "source": [
        "After this, we can reply to the model as specified in Step 3, using the functions dictionary we made earlier."
      ],
      "metadata": {
        "id": "WjcIsC3Jx1R_"
      }
    },
    {
      "cell_type": "code",
      "source": [
        "import google.ai.generativelanguage as glm\n",
        "from google.protobuf.struct_pb2 import Struct\n",
        "\n",
        "# Put the result in a protobuf Struct\n",
        "s = Struct()\n",
        "result = functions[part.function_call.name](**part.function_call.args)\n",
        "s.update({\"result\": result})\n",
        "\n",
        "function_response = glm.Part(\n",
        "    function_response=glm.FunctionResponse(name=\"get_full_menu\", response=s)\n",
        ")\n",
        "\n",
        "# Generate the next response\n",
        "response = chat.send_message(function_response)\n",
        "print(response.text)"
      ],
      "metadata": {
        "colab": {
          "base_uri": "https://localhost:8080/",
          "height": 52
        },
        "id": "1LlWo9WDyA05",
        "outputId": "4370bbd8-a603-4083-de53-7c22f2621459"
      },
      "execution_count": 11,
      "outputs": [
        {
          "output_type": "stream",
          "name": "stdout",
          "text": [
            "The dinner menu includes Chicken Caesar Salad, Margherita Pizza, Spaghetti and Meatballs, and Eggplant Parmesan.\n",
            "\n"
          ]
        }
      ]
    },
    {
      "cell_type": "markdown",
      "source": [
        "## Multiple Function Calls\n",
        "Our model can also call multiple functions in a row, either at the same time or one after the other, as we see in both cases below."
      ],
      "metadata": {
        "id": "-CoupO17yEVO"
      }
    },
    {
      "cell_type": "code",
      "source": [
        "chat = model.start_chat(enable_automatic_function_calling=True)\n",
        "\n",
        "response = chat.send_message(\n",
        "    \"What items on Gemini's Trattoria's dinner menu are vegetarian?\"\n",
        ")\n",
        "print(response.text)"
      ],
      "metadata": {
        "colab": {
          "base_uri": "https://localhost:8080/",
          "height": 34
        },
        "id": "5HiSZoSbyJBh",
        "outputId": "32c6554d-7f21-4783-b47a-8a9c65d6a1b5"
      },
      "execution_count": 12,
      "outputs": [
        {
          "output_type": "stream",
          "name": "stdout",
          "text": [
            "The vegetarian options on Gemini's Trattoria's dinner menu are Margherita Pizza and Eggplant Parmesan.\n"
          ]
        }
      ]
    },
    {
      "cell_type": "code",
      "source": [
        "for content in chat.history:\n",
        "    print(content.role, \"->\", [type(part).to_dict(part) for part in content.parts])\n",
        "    print(\"-\" * 180)\n",
        ""
      ],
      "metadata": {
        "colab": {
          "base_uri": "https://localhost:8080/"
        },
        "id": "bki0mzupyQXr",
        "outputId": "d8047b55-61e2-4919-eb90-af6c037aee83"
      },
      "execution_count": 13,
      "outputs": [
        {
          "output_type": "stream",
          "name": "stdout",
          "text": [
            "user -> [{'text': \"What items on Gemini's Trattoria's dinner menu are vegetarian?\"}]\n",
            "------------------------------------------------------------------------------------------------------------------------------------------------------------------------------------\n",
            "model -> [{'function_call': {'name': 'get_full_menu', 'args': {'service': 'dinner'}}}]\n",
            "------------------------------------------------------------------------------------------------------------------------------------------------------------------------------------\n",
            "user -> [{'function_response': {'name': 'get_full_menu', 'response': {'result': ['Chicken Caesar Salad', 'Margherita Pizza', 'Spaghetti and Meatballs', 'Eggplant Parmesan']}}}]\n",
            "------------------------------------------------------------------------------------------------------------------------------------------------------------------------------------\n",
            "model -> [{'function_call': {'name': 'find_vegetarian_items', 'args': {'items': ['Chicken Caesar Salad', 'Margherita Pizza', 'Spaghetti and Meatballs', 'Eggplant Parmesan']}}}]\n",
            "------------------------------------------------------------------------------------------------------------------------------------------------------------------------------------\n",
            "user -> [{'function_response': {'name': 'find_vegetarian_items', 'response': {'result': ['Margherita Pizza', 'Eggplant Parmesan']}}}]\n",
            "------------------------------------------------------------------------------------------------------------------------------------------------------------------------------------\n",
            "model -> [{'text': \"The vegetarian options on Gemini's Trattoria's dinner menu are Margherita Pizza and Eggplant Parmesan.\"}]\n",
            "------------------------------------------------------------------------------------------------------------------------------------------------------------------------------------\n"
          ]
        }
      ]
    },
    {
      "cell_type": "code",
      "source": [
        "chat = model.start_chat(enable_automatic_function_calling=True)\n",
        "\n",
        "response = chat.send_message(\n",
        "    \"Your are standing outside of Gemini's Trattoria. Enter the restaurant and read out the items on the menu.\"\n",
        ")\n",
        "print(response.text)"
      ],
      "metadata": {
        "colab": {
          "base_uri": "https://localhost:8080/",
          "height": 89
        },
        "id": "QbVoDZHRybis",
        "outputId": "f36d8ce7-53c4-4a9b-b2ba-dc5df5342aaa"
      },
      "execution_count": 14,
      "outputs": [
        {
          "output_type": "stream",
          "name": "stdout",
          "text": [
            "The door swings open, making a loud noise.\n",
            "I have entered Gemini's Trattoria.  The lunch and dinner menus are identical and include: Chicken Caesar Salad, Margherita Pizza, Spaghetti and Meatballs, and Eggplant Parmesan.\n",
            "\n"
          ]
        }
      ]
    },
    {
      "cell_type": "code",
      "source": [
        "for content in chat.history:\n",
        "    print(content.role, \"->\", [type(part).to_dict(part) for part in content.parts])\n",
        "    print(\"-\" * 180)"
      ],
      "metadata": {
        "colab": {
          "base_uri": "https://localhost:8080/"
        },
        "id": "GWIcJO-ryeq1",
        "outputId": "3fb86e89-3d83-4b47-cdd1-5025fa5c0e0a"
      },
      "execution_count": 15,
      "outputs": [
        {
          "output_type": "stream",
          "name": "stdout",
          "text": [
            "user -> [{'text': \"Your are standing outside of Gemini's Trattoria. Enter the restaurant and read out the items on the menu.\"}]\n",
            "------------------------------------------------------------------------------------------------------------------------------------------------------------------------------------\n",
            "model -> [{'function_call': {'name': 'enter_restaurant', 'args': {}}}, {'function_call': {'name': 'get_full_menu', 'args': {'service': 'lunch'}}}, {'function_call': {'name': 'get_full_menu', 'args': {'service': 'dinner'}}}]\n",
            "------------------------------------------------------------------------------------------------------------------------------------------------------------------------------------\n",
            "user -> [{'function_response': {'name': 'enter_restaurant', 'response': {'result': True}}}, {'function_response': {'name': 'get_full_menu', 'response': {'result': ['Chicken Caesar Salad', 'Margherita Pizza', 'Spaghetti and Meatballs', 'Eggplant Parmesan']}}}, {'function_response': {'name': 'get_full_menu', 'response': {'result': ['Chicken Caesar Salad', 'Margherita Pizza', 'Spaghetti and Meatballs', 'Eggplant Parmesan']}}}]\n",
            "------------------------------------------------------------------------------------------------------------------------------------------------------------------------------------\n",
            "model -> [{'text': \"I have entered Gemini's Trattoria.  The lunch and dinner menus are identical and include: Chicken Caesar Salad, Margherita Pizza, Spaghetti and Meatballs, and Eggplant Parmesan.\\n\"}]\n",
            "------------------------------------------------------------------------------------------------------------------------------------------------------------------------------------\n"
          ]
        }
      ]
    }
  ]
}